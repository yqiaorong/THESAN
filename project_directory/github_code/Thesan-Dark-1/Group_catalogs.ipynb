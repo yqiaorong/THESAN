{
 "cells": [
  {
   "cell_type": "markdown",
   "id": "34d152c4-9c0e-4031-8871-5cfecc11e3a1",
   "metadata": {},
   "source": [
    "## Thesan-Dark-1"
   ]
  },
  {
   "cell_type": "markdown",
   "id": "d8129512-0fc4-4471-9e52-faa5d29e320a",
   "metadata": {
    "jp-MarkdownHeadingCollapsed": true,
    "tags": []
   },
   "source": [
    "### Load h5py file in output: Group catelogs\n",
    "\n",
    "../project_directory/data/Thesan-Dark-1/output/group_000/"
   ]
  },
  {
   "cell_type": "code",
   "execution_count": 1,
   "id": "1da4cdc0-f010-4eb0-9a50-cad15776ef1e",
   "metadata": {
    "tags": []
   },
   "outputs": [],
   "source": [
    "import os\n",
    "import h5py"
   ]
  },
  {
   "cell_type": "code",
   "execution_count": 5,
   "id": "61099d25-556e-455f-ac5c-68ab60c7e459",
   "metadata": {
    "tags": []
   },
   "outputs": [],
   "source": [
    "# Load hdf5 fiie\n",
    "f_dir = os.path.join('D:/','UG','Research','Astro_lab','THESAN','project_directory','data', \n",
    "                      'Thesan-Dark-1','output','groups_000','fof_subhalo_tab_000.0.hdf5')\n",
    "f = h5py.File(f_dir, 'r')"
   ]
  },
  {
   "cell_type": "code",
   "execution_count": 25,
   "id": "6875c863-ba97-4150-a536-d42166d514ff",
   "metadata": {
    "tags": []
   },
   "outputs": [
    {
     "data": {
      "text/plain": [
       "<KeysViewHDF5 ['Config', 'Group', 'Header', 'IDs', 'Parameters', 'Subhalo']>"
      ]
     },
     "execution_count": 25,
     "metadata": {},
     "output_type": "execute_result"
    }
   ],
   "source": [
    "# Get the key \n",
    "f.keys()"
   ]
  },
  {
   "cell_type": "markdown",
   "id": "6027baaa-038a-4a08-a597-6af08fb77256",
   "metadata": {
    "jp-MarkdownHeadingCollapsed": true,
    "tags": []
   },
   "source": [
    "### 'Group' and 'Subhalo' in Group catalogs\n",
    "\n",
    "https://www.thesan-project.com/groups.html"
   ]
  },
  {
   "cell_type": "code",
   "execution_count": 42,
   "id": "a8fea025-bd1f-4841-a2f6-5d6d0b3882bd",
   "metadata": {
    "tags": []
   },
   "outputs": [],
   "source": [
    "# Load the Subhalo\n",
    "Subhalo = f['Subhalo']"
   ]
  },
  {
   "cell_type": "code",
   "execution_count": 43,
   "id": "aae37f70-dfae-41a2-9332-6c33330d6e2c",
   "metadata": {
    "tags": []
   },
   "outputs": [
    {
     "name": "stdout",
     "output_type": "stream",
     "text": [
      "['SubhaloCM', 'SubhaloGrNr', 'SubhaloHalfmassRad', 'SubhaloHalfmassRadType', 'SubhaloIDMostbound', 'SubhaloLen', 'SubhaloLenType', 'SubhaloMass', 'SubhaloMassInHalfRad', 'SubhaloMassInHalfRadType', 'SubhaloMassInMaxRad', 'SubhaloMassInMaxRadType', 'SubhaloMassInRad', 'SubhaloMassInRadType', 'SubhaloMassType', 'SubhaloParent', 'SubhaloPos', 'SubhaloSpin', 'SubhaloVel', 'SubhaloVelDisp', 'SubhaloVmax', 'SubhaloVmaxRad']\n",
      "22\n"
     ]
    }
   ],
   "source": [
    "# Print the content in 'Subhalo'\n",
    "print(list(Subhalo))\n",
    "print(len(Subhalo))"
   ]
  },
  {
   "cell_type": "code",
   "execution_count": 44,
   "id": "8b20d774-55dc-44b5-988f-f5b7ceeea75d",
   "metadata": {
    "tags": []
   },
   "outputs": [
    {
     "name": "stdout",
     "output_type": "stream",
     "text": [
      "<class 'h5py._hl.dataset.Dataset'>\n",
      "(66,)\n"
     ]
    }
   ],
   "source": [
    "# Load one dataset in 'Subhalo'\n",
    "SubhaloMass = f[f'Subhalo/SubhaloMass']\n",
    "print(type(SubhaloMass))\n",
    "print(SubhaloMass.shape)"
   ]
  },
  {
   "cell_type": "code",
   "execution_count": 45,
   "id": "05bf7550-0260-4ce0-8226-b18113aee756",
   "metadata": {
    "tags": []
   },
   "outputs": [
    {
     "name": "stdout",
     "output_type": "stream",
     "text": [
      "['GroupCM', 'GroupFirstSub', 'GroupLen', 'GroupLenType', 'GroupMass', 'GroupMassType', 'GroupNsubs', 'GroupPos', 'GroupVel', 'Group_M_Crit200', 'Group_M_Crit500', 'Group_M_Mean200', 'Group_M_TopHat200', 'Group_R_Crit200', 'Group_R_Crit500', 'Group_R_Mean200', 'Group_R_TopHat200']\n",
      "17\n"
     ]
    }
   ],
   "source": [
    "# Load the Group \n",
    "Group = f['Group']\n",
    "# Print the content in 'Group'\n",
    "print(list(Group))\n",
    "print(len(Group))"
   ]
  },
  {
   "cell_type": "code",
   "execution_count": 47,
   "id": "05ce44b5-0c2f-4564-81e0-d77c0ea6e1c2",
   "metadata": {
    "tags": []
   },
   "outputs": [
    {
     "name": "stdout",
     "output_type": "stream",
     "text": [
      "<class 'h5py._hl.dataset.Dataset'>\n",
      "(40, 3)\n"
     ]
    }
   ],
   "source": [
    "# Load the dataset in the subgroup\n",
    "GroupCM = f[f'Group/GroupCM']\n",
    "print(type(GroupCM))\n",
    "print(GroupCM.shape)"
   ]
  },
  {
   "cell_type": "markdown",
   "id": "96ff2e19-2015-4a78-91f1-5c2d5c98fc42",
   "metadata": {
    "jp-MarkdownHeadingCollapsed": true,
    "tags": []
   },
   "source": [
    "### Load h5py file in output: Snapshots\n",
    "\n",
    "../project_directory/data/Thesan-Dark-1/output/snapdir_000/"
   ]
  },
  {
   "cell_type": "code",
   "execution_count": 49,
   "id": "687005ab-7dcd-4f47-af58-3ed9a6bfcc10",
   "metadata": {
    "tags": []
   },
   "outputs": [],
   "source": [
    "# Load hdf5 fiie\n",
    "s_dir = os.path.join('D:/','UG','Research','Astro_lab','THESAN','project_directory','data', \n",
    "                      'Thesan-Dark-1','output','snapdir_000','snap_000.0.hdf5')\n",
    "s = h5py.File(s_dir, 'r')"
   ]
  },
  {
   "cell_type": "code",
   "execution_count": 50,
   "id": "4cdaf6c5-267d-4ef8-abae-50f15c08072a",
   "metadata": {
    "tags": []
   },
   "outputs": [
    {
     "data": {
      "text/plain": [
       "<KeysViewHDF5 ['Config', 'Header', 'Parameters', 'PartType1']>"
      ]
     },
     "execution_count": 50,
     "metadata": {},
     "output_type": "execute_result"
    }
   ],
   "source": [
    "# Get the key \n",
    "s.keys()"
   ]
  },
  {
   "cell_type": "code",
   "execution_count": 61,
   "id": "220687c3-848a-4623-a6ca-8d0c01c27496",
   "metadata": {
    "tags": []
   },
   "outputs": [
    {
     "data": {
      "text/plain": [
       "<HDF5 group \"/Header\" (0 members)>"
      ]
     },
     "execution_count": 61,
     "metadata": {},
     "output_type": "execute_result"
    }
   ],
   "source": [
    "s['Header']"
   ]
  },
  {
   "cell_type": "code",
   "execution_count": 68,
   "id": "e7538bf1-f57c-408f-b805-b6c73bf3d536",
   "metadata": {
    "tags": []
   },
   "outputs": [
    {
     "data": {
      "text/plain": [
       "64691.7"
      ]
     },
     "execution_count": 68,
     "metadata": {},
     "output_type": "execute_result"
    }
   ],
   "source": [
    "# Try the header arributes\n",
    "s['Header'].attrs['BoxSize']"
   ]
  },
  {
   "cell_type": "markdown",
   "id": "6a98fe64-2f19-4709-b2f0-e704ecc044e6",
   "metadata": {
    "jp-MarkdownHeadingCollapsed": true,
    "tags": []
   },
   "source": [
    "### Part Type 0,1,4,5 in Snapshots\n",
    "\n",
    "https://www.thesan-project.com/snapshots.html\n",
    "\n",
    "* 0: Gas\n",
    "\n",
    "* 1: Dark matter\n",
    "\n",
    "* 4: Stars\n",
    "\n",
    "* 5: Black holes"
   ]
  },
  {
   "cell_type": "code",
   "execution_count": 52,
   "id": "d9cd0a3e-7569-4c6c-9c92-c23d82d6de55",
   "metadata": {
    "tags": []
   },
   "outputs": [
    {
     "data": {
      "text/plain": [
       "<HDF5 group \"/Parameters\" (0 members)>"
      ]
     },
     "execution_count": 52,
     "metadata": {},
     "output_type": "execute_result"
    }
   ],
   "source": [
    "Parameters = s['Parameters']\n",
    "Parameters"
   ]
  },
  {
   "cell_type": "code",
   "execution_count": 53,
   "id": "ae5c2d5c-98d6-4d11-bd63-e00ecbfb6172",
   "metadata": {
    "tags": []
   },
   "outputs": [
    {
     "data": {
      "text/plain": [
       "<HDF5 group \"/PartType1\" (5 members)>"
      ]
     },
     "execution_count": 53,
     "metadata": {},
     "output_type": "execute_result"
    }
   ],
   "source": [
    "PartType1 = s['PartType1']\n",
    "PartType1"
   ]
  },
  {
   "cell_type": "code",
   "execution_count": 55,
   "id": "898d4542-06de-4b2d-ad53-8bc06ccd6940",
   "metadata": {
    "tags": []
   },
   "outputs": [
    {
     "name": "stdout",
     "output_type": "stream",
     "text": [
      "['Coordinates', 'ParticleIDs', 'Potential', 'SubfindHsml', 'Velocities']\n"
     ]
    }
   ],
   "source": [
    "print(list(PartType1))"
   ]
  },
  {
   "cell_type": "code",
   "execution_count": 56,
   "id": "6ce91ba9-6bbb-4873-8d33-f26d6161a693",
   "metadata": {
    "tags": []
   },
   "outputs": [
    {
     "name": "stdout",
     "output_type": "stream",
     "text": [
      "(48483266, 3)\n"
     ]
    }
   ],
   "source": [
    "coords = s['PartType1/Coordinates']\n",
    "print(coords.shape)"
   ]
  },
  {
   "cell_type": "code",
   "execution_count": 67,
   "id": "51bdb2be-085c-4e11-8d10-3d9a0ae0d071",
   "metadata": {
    "tags": []
   },
   "outputs": [
    {
     "data": {
      "text/plain": [
       "1.0"
      ]
     },
     "execution_count": 67,
     "metadata": {},
     "output_type": "execute_result"
    }
   ],
   "source": [
    "# Try the dataset arribute\n",
    "coords.attrs['a_scaling']"
   ]
  },
  {
   "cell_type": "code",
   "execution_count": null,
   "id": "588a55d3-b285-4526-98f2-b5ab7b84b82b",
   "metadata": {},
   "outputs": [],
   "source": []
  }
 ],
 "metadata": {
  "kernelspec": {
   "display_name": "Python 3 (ipykernel)",
   "language": "python",
   "name": "python3"
  },
  "language_info": {
   "codemirror_mode": {
    "name": "ipython",
    "version": 3
   },
   "file_extension": ".py",
   "mimetype": "text/x-python",
   "name": "python",
   "nbconvert_exporter": "python",
   "pygments_lexer": "ipython3",
   "version": "3.11.4"
  }
 },
 "nbformat": 4,
 "nbformat_minor": 5
}
